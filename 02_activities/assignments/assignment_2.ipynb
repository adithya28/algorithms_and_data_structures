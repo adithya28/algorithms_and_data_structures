{
 "cells": [
  {
   "cell_type": "markdown",
   "metadata": {},
   "source": [
    "# Practice Interview\n",
    "\n",
    "## Objective\n",
    "\n",
    "_*The partner assignment aims to provide participants with the opportunity to practice coding in an interview context. You will analyze your partner's Assignment 1. Moreover, code reviews are common practice in a software development team. This assignment should give you a taste of the code review process.*_\n",
    "\n",
    "## Group Size\n",
    "\n",
    "Each group should have 2 people. You will be assigned a partner\n",
    "\n",
    "## Part 1:\n",
    "\n",
    "You and your partner must share each other's Assignment 1 submission."
   ]
  },
  {
   "cell_type": "markdown",
   "metadata": {},
   "source": [
    "\n",
    "## Part 2:\n",
    "\n",
    "Create a Jupyter Notebook, create 6 of the following headings, and complete the following for your partner's assignment 1:\n",
    "\n",
    "-   Paraphrase the problem in your own words.\n"
   ]
  },
  {
   "cell_type": "markdown",
   "source": [
    "My partner's code for this assignment is at https://github.com/rafaelperez/algorithms_and_data_structures/blob/assignment-1/02_activities/assignments/assignment_1.ipynb  \n",
    "\n",
    "Question 2 from assignment 1 was solved, The problem demonstrates a classic Breadth First search with a separate array to keep track of visited nodes."
   ],
   "metadata": {
    "collapsed": false
   }
  },
  {
   "cell_type": "markdown",
   "metadata": {},
   "source": [
    "\n",
    "-   Create 1 new example that demonstrates you understand the problem. Trace/walkthrough 1 example that your partner made and explain it.\n"
   ]
  },
  {
   "cell_type": "markdown",
   "source": [
    "\n",
    "test_tree = TreeNode(1, TreeNode(2, TreeNode(3), TreeNode(4)), TreeNode(9,TreeNode(6), TreeNode(7)))\n",
    "\n",
    "Root: 1\n",
    "------\n",
    "Root: 2\n",
    "------\n",
    "Root: 3\n",
    "leaf node: 3\n",
    "Left paths: [[3]]\n",
    "------\n",
    "Root: 4\n",
    "leaf node: 4\n",
    "right paths: [[4]]\n",
    "paths=[[2, 3], [2, 4]]\n",
    "Left paths: [[2, 3], [2, 4]]\n",
    "------\n",
    "Root: 9\n",
    "------\n",
    "Root: 9\n",
    "leaf node: 9\n",
    "Left paths: [[9]]\n",
    "------\n",
    "Root: 7\n",
    "leaf node: 7\n",
    "right paths: [[7]]\n",
    "paths=[[9, 6], [9, 7]]\n",
    "right paths: [[9, 6], [9, 7]]\n",
    "paths=[[1, 2, 3], [1, 2, 4], [1,9, 6], [1, 9, 7]]\n",
    "[[1, 2, 3], [1, 2, 4], [1, 9, 6], [1, 9, 7]]"
   ],
   "metadata": {
    "collapsed": false
   }
  },
  {
   "cell_type": "markdown",
   "metadata": {},
   "source": [
    "\n",
    "-   Copy the solution your partner wrote. \n"
   ]
  },
  {
   "cell_type": "code",
   "execution_count": null,
   "metadata": {},
   "outputs": [],
   "source": [
    "from typing import List\n",
    "\n",
    "# Definition for a binary tree node.\n",
    "class TreeNode(object):\n",
    "    def __init__(self, val = 0, left = None, right = None):\n",
    "        self.val = val\n",
    "        self.left = left\n",
    "        self.right = right\n",
    "\n",
    "# Go one step down, check both sides. If the node is a leaf node, return the node value as a list.\n",
    "def bt_path(root):\n",
    "  print(\"------\\nRoot: {}\".format(root.val))\n",
    "\n",
    "  if not root:\n",
    "    return []\n",
    "\n",
    "  if not root.left and not root.right:  # leaf node\n",
    "    print(\"leaf node: {}\".format(root.val))\n",
    "    return [[root.val]]\n",
    "\n",
    "  left_paths = bt_path(root.left)\n",
    "  print(\"Left paths: {}\".format(left_paths))\n",
    "  right_paths = bt_path(root.right)\n",
    "  print(\"right paths: {}\".format(right_paths))\n",
    "\n",
    "  paths = []\n",
    "  for path in left_paths + right_paths:\n",
    "      path.insert(0, root.val)\n",
    "      paths.append(path)\n",
    "\n",
    "  print(f\"{paths=}\")\n",
    "  return paths\n"
   ]
  },
  {
   "cell_type": "markdown",
   "metadata": {},
   "source": [
    "\n",
    "-   Explain why their solution works in your own words.\n"
   ]
  },
  {
   "cell_type": "markdown",
   "source": [
    "The solution works because at every iteration, both the left and right branches of the root. it is \"breadth first\" because both left and right branches are equally explored at every iteration. The visited nodes are then saved in an array to generate complete \n",
    "traversal paths."
   ],
   "metadata": {
    "collapsed": false
   }
  },
  {
   "cell_type": "markdown",
   "metadata": {},
   "source": [
    "\n",
    "-   Explain the problem’s time and space complexity in your own words.\n"
   ]
  },
  {
   "cell_type": "markdown",
   "source": [
    "The time complexity is O(V+E) where V is the number of nodes, and E is the number of branches.\n",
    "\n",
    "The space complexity is also O(V+E) because we're not only keeping track of the nodes, but also their paths to other nodes."
   ],
   "metadata": {
    "collapsed": false
   }
  },
  {
   "cell_type": "markdown",
   "metadata": {},
   "source": [
    "\n",
    "-   Critique your partner's solution, including explanation, and if there is anything that should be adjusted.\n"
   ]
  },
  {
   "cell_type": "markdown",
   "source": [
    "well, they used a classic BFS approach, there is very little to change, maybe use a 2 dimensional array to memo-ize the traversals for each edge can help reduce space complexity."
   ],
   "metadata": {
    "collapsed": false
   }
  },
  {
   "cell_type": "markdown",
   "metadata": {},
   "source": [
    "\n",
    "## Part 3:\n",
    "\n",
    "Please write a 200 word reflection documenting your process from assignment 1, and your presentation and review experience with your partner at the bottom of the Jupyter Notebook under a new heading \"Reflection.\" Again, export this Notebook as pdf.\n"
   ]
  },
  {
   "cell_type": "markdown",
   "metadata": {},
   "source": [
    "### Reflection"
   ]
  },
  {
   "cell_type": "markdown",
   "source": [
    "My process for Assignment 1 was simple, I despise leetcode and similar websites for their over-reliance on rote memorization.\n",
    "\n",
    "1. I watch a few youtube videos on the problem  \n",
    "2. I write my own code because I have a background in Software Engineering  \n",
    "3. I then try and optimize the solution to take minimal space/time complexity, I use GPT or general google search to cross-reference my answer.\n",
    "\n",
    "My experience reviewing another student's assignment was quite pleasant. I have experience as a Teaching assistant so I was able to identify specific criteria that needed attention like the effective use of recursion and the accuracy of the base case.\n",
    "\n",
    "I didn't learn very much from this section as I already knew some data structures and have a special distaste for leetcode style questions.\n"
   ],
   "metadata": {
    "collapsed": false
   }
  },
  {
   "cell_type": "markdown",
   "metadata": {},
   "source": [
    "\n",
    "## Evaluation Criteria\n",
    "\n",
    "We are looking for the similar points as Assignment 1\n",
    "\n",
    "-   Problem is accurately stated\n",
    "\n",
    "-   New example is correct and easily understandable\n",
    "\n",
    "-   Correctness, time, and space complexity of the coding solution\n",
    "\n",
    "-   Clarity in explaining why the solution works, its time and space complexity\n",
    "\n",
    "-   Quality of critique of your partner's assignment, if necessary\n"
   ]
  },
  {
   "cell_type": "markdown",
   "metadata": {},
   "source": [
    "## Submission Information\n",
    "\n",
    "🚨 **Please review our [Assignment Submission Guide](https://github.com/UofT-DSI/onboarding/blob/main/onboarding_documents/submissions.md)** 🚨 for detailed instructions on how to format, branch, and submit your work. Following these guidelines is crucial for your submissions to be evaluated correctly.\n",
    "\n",
    "### Submission Parameters:\n",
    "* Submission Due Date: `HH:MM AM/PM - DD/MM/YYYY`\n",
    "* The branch name for your repo should be: `assignment-2`\n",
    "* What to submit for this assignment:\n",
    "    * This Jupyter Notebook (assignment_2.ipynb) should be populated and should be the only change in your pull request.\n",
    "* What the pull request link should look like for this assignment: `https://github.com/<your_github_username>/algorithms_and_data_structures/pull/<pr_id>`\n",
    "    * Open a private window in your browser. Copy and paste the link to your pull request into the address bar. Make sure you can see your pull request properly. This helps the technical facilitator and learning support staff review your submission easily.\n",
    "\n",
    "Checklist:\n",
    "- [ ] Created a branch with the correct naming convention.\n",
    "- [ ] Ensured that the repository is public.\n",
    "- [ ] Reviewed the PR description guidelines and adhered to them.\n",
    "- [ ] Verify that the link is accessible in a private browser window.\n",
    "\n",
    "If you encounter any difficulties or have questions, please don't hesitate to reach out to our team via our Slack at `#cohort-3-help`. Our Technical Facilitators and Learning Support staff are here to help you navigate any challenges.\n"
   ]
  }
 ],
 "metadata": {
  "language_info": {
   "name": "python"
  },
  "kernelspec": {
   "name": "python3",
   "language": "python",
   "display_name": "Python 3 (ipykernel)"
  }
 },
 "nbformat": 4,
 "nbformat_minor": 2
}
